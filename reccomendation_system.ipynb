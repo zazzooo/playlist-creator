{
 "cells": [
  {
   "cell_type": "code",
   "execution_count": 2,
   "metadata": {},
   "outputs": [],
   "source": [
    "# dictioinary of notes\n",
    "# the keys are the note; \n",
    "# the value is a tuple:\n",
    "#   first the element the other notes that are compatible  with the keys   \n",
    "#   seconfd the element the other notes that are boosting the keys   \n",
    "d = {\n",
    "    '1A' : (['12A', '2A', '1B', '4B', '10B'], ['3A', '8A', '6A']),\n",
    "    '2A' : (['1A', '3A', '5B', '11B', '2B'], ['4A', '7A', '9A']),\n",
    "    '3A' : (['2A', '4A', '6B', '12B', '3B'], ['5A', '8A', '10A']),\n",
    "    '4A' : (['3A', '5A', '7B', '1B', '4B'], ['6A', '9A', '11A']),\n",
    "    '5A' : (['4A', '6A', '8B', '2B', '5B'], ['7A', '10A', '12A']),\n",
    "    '6A' : (['5A', '7A', '9B', '3B', '6B'], ['8A', '11A', '1A']),\n",
    "    '7A' : (['6A', '8A', '10B', '4B', '7B'], ['9A', '12A', '2A']),\n",
    "    '8A' : (['7A', '9A', '11B', '5B', '8B'], ['10A', '1A', '3A']),\n",
    "    '9A' : (['8A', '10A', '12B', '6B', '9B'], ['11A', '2A', '4A']),\n",
    "    '10A' : (['9A', '11A', '1B', '7B', '10B'], ['12A', '3A', '5A']),\n",
    "    '11A' : (['10A', '12A', '2B', '8B', '11B'], ['1A', '4A', '6A']),\n",
    "    '12A' : (['11A', '1A', '3B', '9B', '12B'], ['2A', '5A', '7A']),\n",
    "    '1B' : (['12B', '2B', '1A', '4A', '10A'], ['3B', '8B', '6B']),\n",
    "    '2B' : (['1B', '3B', '5A', '11A', '2A'], ['4B', '7B', '9B']),\n",
    "    '3B' : (['2B', '4B', '6A', '12A', '3A'], ['5B', '8B', '10B']),\n",
    "    '4B' : (['3B', '5B', '7A', '1A', '4A'], ['6B', '9B', '11B']),\n",
    "    '5B' : (['4B', '6B', '8A', '2A', '5A'], ['7B', '10B', '12B']),\n",
    "    '6B' : (['5B', '7B', '9A', '3A', '6A'], ['8B', '11B', '1B']),\n",
    "    '7B' : (['6B', '8B', '10A', '4A', '7A'], ['9B', '12B', '2B']),\n",
    "    '8B' : (['7B', '9B', '11A', '5A', '8A'], ['10B', '1B', '3B']),\n",
    "    '9B' : (['8B', '10B', '12A', '6A', '9A'], ['11B', '2B', '4B']),\n",
    "    '10B' : (['9B', '11B', '1A', '7A', '10A'], ['12B', '3B', '5B']),\n",
    "    '11B' : (['10B', '12B', '2A', '8A', '11A'], ['1B', '4B', '6B']),\n",
    "    '12B' : (['11B', '1B', '3A', '9A', '12A'], ['2B', '5B', '7B'])\n",
    "    }"
   ]
  },
  {
   "cell_type": "code",
   "execution_count": 37,
   "metadata": {},
   "outputs": [],
   "source": [
    "input = [('allaluja', '4B'), ('name_song1', '1B'), ('NAME2', '3A'), ('name3', '5A'), ('name4', '7A'), ('name5', '9A'), \n",
    "         ('name6', '11A'), ('name7', '1A'), ('name8', '12B'), ('name9', '10B'), ('name10', '8B'), ('tutturuttutu', '6B')]"
   ]
  },
  {
   "cell_type": "code",
   "execution_count": 4,
   "metadata": {},
   "outputs": [
    {
     "name": "stdout",
     "output_type": "stream",
     "text": [
      "Song: name_song1\n",
      "Compatible: ['12B', '2B', '1A', '4A', '10A']\n",
      "Energy boost: ['3B', '8B', '6B']\n",
      "Song: NAME2\n",
      "Compatible: ['2A', '4A', '6B', '12B', '3B']\n",
      "Energy boost: ['5A', '8A', '10A']\n",
      "Song: name3\n",
      "Compatible: ['4A', '6A', '8B', '2B', '5B']\n",
      "Energy boost: ['7A', '10A', '12A']\n",
      "Song: name4\n",
      "Compatible: ['6A', '8A', '10B', '4B', '7B']\n",
      "Energy boost: ['9A', '12A', '2A']\n",
      "Song: name5\n",
      "Compatible: ['8A', '10A', '12B', '6B', '9B']\n",
      "Energy boost: ['11A', '2A', '4A']\n",
      "Song: name6\n",
      "Compatible: ['10A', '12A', '2B', '8B', '11B']\n",
      "Energy boost: ['1A', '4A', '6A']\n",
      "Song: name7\n",
      "Compatible: ['12A', '2A', '1B', '4B', '10B']\n",
      "Energy boost: ['3A', '8A', '6A']\n",
      "Song: name8\n",
      "Compatible: ['11B', '1B', '3A', '9A', '12A']\n",
      "Energy boost: ['2B', '5B', '7B']\n",
      "Song: name9\n",
      "Compatible: ['9B', '11B', '1A', '7A', '10A']\n",
      "Energy boost: ['12B', '3B', '5B']\n",
      "Song: name10\n",
      "Compatible: ['7B', '9B', '11A', '5A', '8A']\n",
      "Energy boost: ['10B', '1B', '3B']\n"
     ]
    }
   ],
   "source": [
    "for i in input:\n",
    "    print(f'Song: {i[0]}')\n",
    "    print(f'Compatible: {d[i[1]][0]}')\n",
    "    print(f'Energy boost: {d[i[1]][1]}')\n"
   ]
  },
  {
   "cell_type": "code",
   "execution_count": 38,
   "metadata": {},
   "outputs": [],
   "source": [
    "import random as rnd"
   ]
  },
  {
   "cell_type": "code",
   "execution_count": 39,
   "metadata": {},
   "outputs": [],
   "source": [
    "input = [('allaluja', '4B'), ('name_song1', '1B'), ('NAME2', '3A'), ('name3', '5A'), ('name4', '7A'), ('name5', '9A'), \n",
    "         ('name6', '11A'), ('name7', '1A'), ('name8', '12B'), ('name9', '10B'), ('name10', '8B'), ('tutturuttutu', '6B')]"
   ]
  },
  {
   "cell_type": "code",
   "execution_count": 40,
   "metadata": {},
   "outputs": [],
   "source": [
    "counter = 1\n",
    "ordered_song = []\n",
    "n_songs = len(input)"
   ]
  },
  {
   "cell_type": "code",
   "execution_count": 42,
   "metadata": {},
   "outputs": [
    {
     "name": "stdout",
     "output_type": "stream",
     "text": [
      "[(('allaluja', '4B'), 'First song'), (('name4', '7A'), 'Compatible'), (('name9', '10B'), 'Compatible'), (('name8', '12B'), 'Boost'), (('name5', '9A'), 'Compatible'), (('tutturuttutu', '6B'), 'Compatible'), (('name_song1', '1B'), 'Boost'), (('name7', '1A'), 'Compatible'), (('NAME2', '3A'), 'Boost'), (('name3', '5A'), 'Boost'), (('name10', '8B'), 'Compatible'), (('name6', '11A'), 'Compatible')]\n"
     ]
    }
   ],
   "source": [
    "def harmonic_mix(inputt):\n",
    "    counter = 1\n",
    "    n_songs = len(inputt)\n",
    "    input = inputt.copy()\n",
    "    ordered_song = [] # empty list where the song are ordered \n",
    "    while len(ordered_song) < n_songs:\n",
    "        if ordered_song != []:\n",
    "            if ordered_song[-1][0][0] == 'No more compatible or power boost song in the playlist':\n",
    "                break\n",
    "        if ordered_song == []:\n",
    "            ordered_song.append((input[0], 'First song'))\n",
    "            input.remove(input[0])\n",
    "        song_to_match = ordered_song[-1] #choose song to match\n",
    "        # print(f'Song to match: {song_to_match}')\n",
    "        compatible_song = []\n",
    "        energy_song = []\n",
    "        compatible_keys = d[song_to_match[0][1]][0]\n",
    "        energy_keys = d[song_to_match[0][1]][1]\n",
    "        # create list of compatible / energy boost songs\n",
    "        for next_song in input:\n",
    "            if next_song[1] in compatible_keys:\n",
    "                compatible_song.append(next_song)\n",
    "            if next_song[1] in energy_keys:\n",
    "                energy_song.append(next_song)\n",
    "        # every 3 songs, choose a power boost song\n",
    "        if counter % 3 != 0:\n",
    "            try:\n",
    "                ordered_song.append((rnd.choice(compatible_song), 'Compatible'))\n",
    "                # if not compatible_song: put a power boost song\n",
    "            except:\n",
    "                IndexError \n",
    "                try:\n",
    "                    ordered_song.append((rnd.choice(energy_song), 'Boost'))\n",
    "                except:\n",
    "                    # if no songs available, put a message (and break the loop)\n",
    "                    IndexError\n",
    "                    ordered_song.append((('No more compatible or power boost song in the playlist', '0'), 'END')) \n",
    "            counter += 1\n",
    "        else:\n",
    "            try:\n",
    "                ordered_song.append((rnd.choice(energy_song), 'Boost'))\n",
    "            except:\n",
    "                IndexError\n",
    "                try:\n",
    "                    ordered_song.append((rnd.choice(compatible_song), 'Compatible'))\n",
    "                except:\n",
    "                    IndexError\n",
    "                    ordered_song.append((('No more compatible or power boost song in the playlist', '0'), 'END')) \n",
    "            counter += 1\n",
    "        if ordered_song[-1][0] in input:\n",
    "            input.remove(ordered_song[-1][0])\n",
    "        # print(f'ordered songs: {ordered_song}')\n",
    "        # print(f'input songs: {input}')\n",
    "        # print(f'N songs remain to place: {len(input)}')\n",
    "    return ordered_song\n",
    "print(harmonic_mix(input))"
   ]
  },
  {
   "cell_type": "code",
   "execution_count": 43,
   "metadata": {},
   "outputs": [
    {
     "name": "stdout",
     "output_type": "stream",
     "text": [
      "Song: allaluja, First song\n",
      "Song: name7, Compatible\n",
      "Song: name9, Compatible\n",
      "Song: name8, Boost\n",
      "Song: NAME2, Compatible\n",
      "Song: tutturuttutu, Compatible\n",
      "Song: name_song1, Boost\n",
      "Song: name10, Boost\n",
      "Song: name6, Compatible\n",
      "Song: No more compatible or power boost song in the playlist, END\n"
     ]
    }
   ],
   "source": [
    "ordered_song = harmonic_mix(input)\n",
    "def good_output(ordered_song):\n",
    "    for (song, keys), type in ordered_song:\n",
    "        print(f'Song: {song}, {type}')\n",
    "good_output(ordered_song)"
   ]
  }
 ],
 "metadata": {
  "kernelspec": {
   "display_name": "Python 3",
   "language": "python",
   "name": "python3"
  },
  "language_info": {
   "codemirror_mode": {
    "name": "ipython",
    "version": 3
   },
   "file_extension": ".py",
   "mimetype": "text/x-python",
   "name": "python",
   "nbconvert_exporter": "python",
   "pygments_lexer": "ipython3",
   "version": "3.10.4"
  },
  "orig_nbformat": 4
 },
 "nbformat": 4,
 "nbformat_minor": 2
}
